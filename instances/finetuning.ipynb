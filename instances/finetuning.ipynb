{
 "cells": [
  {
   "cell_type": "code",
   "id": "initial_id",
   "metadata": {
    "collapsed": true,
    "ExecuteTime": {
     "end_time": "2024-12-03T17:28:44.109800Z",
     "start_time": "2024-12-03T17:28:44.105229Z"
    }
   },
   "source": [
    "from symtable import Class\n",
    "\n",
    "import torch\n",
    "import torch.nn as nn\n",
    "\n",
    "import numpy as np\n",
    "import pandas as pd\n",
    "\n",
    "import matplotlib.pyplot as plt\n",
    "\n",
    "from tqdm import tqdm"
   ],
   "outputs": [],
   "execution_count": 6
  },
  {
   "metadata": {
    "ExecuteTime": {
     "end_time": "2024-12-03T17:11:18.544712Z",
     "start_time": "2024-12-03T17:11:17.131172Z"
    }
   },
   "cell_type": "code",
   "source": [
    "from instances.wrappers import get_dataset\n",
    "from instances.models import Classifier"
   ],
   "id": "997faa513e3f5caa",
   "outputs": [
    {
     "name": "stderr",
     "output_type": "stream",
     "text": [
      "/home/felipe/Projects/heuristics-fsmp/.venv/lib/python3.12/site-packages/tqdm/auto.py:21: TqdmWarning: IProgress not found. Please update jupyter and ipywidgets. See https://ipywidgets.readthedocs.io/en/stable/user_install.html\n",
      "  from .autonotebook import tqdm as notebook_tqdm\n"
     ]
    }
   ],
   "execution_count": 2
  },
  {
   "metadata": {
    "ExecuteTime": {
     "end_time": "2024-12-03T18:48:35.291493Z",
     "start_time": "2024-12-03T18:48:35.288113Z"
    }
   },
   "cell_type": "code",
   "source": [
    "datasets = [\n",
    "    \"letter_recognition\",\n",
    "    # \"beans\",\n",
    "    # \"brain_tumor\",\n",
    "    # \"cifar\",\n",
    "    # \"cats_and_dogs\",\n",
    "]\n",
    "\n",
    "backbones = [\n",
    "    \"resnet18\"\n",
    "]"
   ],
   "id": "ffdb0ca04b34e5",
   "outputs": [],
   "execution_count": 60
  },
  {
   "metadata": {
    "ExecuteTime": {
     "end_time": "2024-12-03T18:50:24.815778Z",
     "start_time": "2024-12-03T18:50:24.810804Z"
    }
   },
   "cell_type": "code",
   "source": [
    "class Tracker:\n",
    "    def __init__(self, backbone, dataset):\n",
    "        self.backbone = backbone\n",
    "        self.dataset = dataset\n",
    "        \n",
    "        self.step = []\n",
    "        self.epoch = []\n",
    "        self.loss = []\n",
    "        self.acc = []\n",
    "    \n",
    "    def __call__(self, step, epoch, loss, acc=None):\n",
    "        self.step.append(step)\n",
    "        self.epoch.append(epoch)\n",
    "        self.loss.append(loss)\n",
    "        if acc is not None:\n",
    "            self.acc.append(acc)\n",
    "        \n",
    "    def plot_loss(self, ax, *args, **kwargs):\n",
    "        ax.plot(self.step, self.loss, label=f\"{self.backbone}_{self.dataset}\", *args, **kwargs)\n",
    "        ax.redraw_in_frame()\n",
    "    \n",
    "    def plot_acc(self, ax, *args, **kwargs):\n",
    "        ax.plot(self.step, self.acc, label=f\"{self.backbone}_{self.dataset}\", *args, **kwargs)\n",
    "        ax.redraw_in_frame()\n",
    "        "
   ],
   "id": "7be2d1c8ce60c5bc",
   "outputs": [],
   "execution_count": 63
  },
  {
   "metadata": {
    "ExecuteTime": {
     "end_time": "2024-12-03T18:56:00.039234Z",
     "start_time": "2024-12-03T18:56:00.036616Z"
    }
   },
   "cell_type": "code",
   "source": [
    "def accuracy(logits, labels):\n",
    "    preds = torch.softmax(logits, dim=1).argmax(dim=1)\n",
    "    return (preds == labels).float().mean()"
   ],
   "id": "ad160ea797d8563c",
   "outputs": [],
   "execution_count": 67
  },
  {
   "metadata": {
    "ExecuteTime": {
     "end_time": "2024-12-03T18:56:00.778443Z",
     "start_time": "2024-12-03T18:56:00.775646Z"
    }
   },
   "cell_type": "code",
   "source": [
    "def count_parameters(model):\n",
    "    return sum(p.numel() for p in model.parameters() if p.requires_grad)"
   ],
   "id": "2b2f6f3c8a780949",
   "outputs": [],
   "execution_count": 68
  },
  {
   "metadata": {
    "ExecuteTime": {
     "end_time": "2024-12-03T19:38:31.121666Z",
     "start_time": "2024-12-03T19:23:33.090650Z"
    }
   },
   "cell_type": "code",
   "source": [
    "batch_size = 128\n",
    "n_epochs = 16\n",
    "epochs_before_unfreeze = int(n_epochs - 2)\n",
    "lr = 1e-3\n",
    "\n",
    "device = torch.device(\"cuda\" if torch.cuda.is_available() else \"cpu\")\n",
    "\n",
    "loss_fn = nn.functional.cross_entropy\n",
    "\n",
    "loss_tracker = {\n",
    "    \"train\": {f\"{backbone}_{dataset}\": Tracker(backbone, dataset) for backbone in backbones for dataset in datasets},\n",
    "    \"validation\": {f\"{backbone}_{dataset}\": Tracker(backbone, dataset) for backbone in backbones for dataset in datasets}\n",
    "}\n",
    "\n",
    "\n",
    "for dataset in datasets:\n",
    "    for backbone in backbones:\n",
    "        name = f\"{backbone}_{dataset}\" \n",
    "        print(f\"training {name}...\")\n",
    "        train, validation, test, n_classes= get_dataset(dataset, batch_size=batch_size)\n",
    "        model = Classifier(backbone, n_classes, n_hidden=128).to(device)\n",
    "        optimizer = torch.optim.Adam(model.parameters(), lr=lr)\n",
    "        scheduler_decay = torch.optim.lr_scheduler.ExponentialLR(optimizer, gamma=0.9)\n",
    "        scheduler_backbone = torch.optim.lr_scheduler.MultiStepLR(optimizer, milestones=[epochs_before_unfreeze], gamma=0.1)\n",
    "        \n",
    "        step_train = 0\n",
    "        step_validation = 0\n",
    "        \n",
    "        # freeze backbone\n",
    "        for param in model.model[:2].parameters():\n",
    "            param.requires_grad = False\n",
    "\n",
    "        for n in tqdm(range(epochs_before_unfreeze), desc=\"head\"):\n",
    "            model.train()\n",
    "            for i, batch in enumerate(train):\n",
    "                x, y = batch[\"image\"], batch[\"label\"]\n",
    "                x = x.to(device)\n",
    "                y = y.to(device)\n",
    "                optimizer.zero_grad()\n",
    "                \n",
    "                logits = model(x)\n",
    "                loss = loss_fn(logits, y)\n",
    "                loss.backward()\n",
    "                \n",
    "                optimizer.step()\n",
    "                scheduler_decay.step()\n",
    "                scheduler_backbone.step()\n",
    "                \n",
    "                loss_tracker[\"train\"][name](step_train, n, loss.item(), accuracy(logits, y))\n",
    "                step_train += 1\n",
    "                \n",
    "            model.eval()\n",
    "            for i, batch in enumerate(validation):\n",
    "                x, y = batch[\"image\"], batch[\"label\"]\n",
    "                x = x.to(device)\n",
    "                y = y.to(device)\n",
    "                with torch.no_grad():\n",
    "                    logits = model(x)\n",
    "                    loss = loss_fn(logits, y)\n",
    "                \n",
    "                loss_tracker[\"validation\"][name](step_validation, n, loss.item(), accuracy(logits, y))\n",
    "                step_validation += 1\n",
    "                \n",
    "                                   \n",
    "        # unfreeze backbone\n",
    "        for param in model.model[:2].parameters():\n",
    "            param.requires_grad = True\n",
    "                \n",
    "        for n in tqdm(range(int(n_epochs - epochs_before_unfreeze)), desc=\"head + backbone\"):\n",
    "            model.train()\n",
    "            for i, batch in enumerate(train):\n",
    "                x, y = batch[\"image\"], batch[\"label\"]\n",
    "                x = x.to(device)\n",
    "                y = y.to(device)\n",
    "                optimizer.zero_grad()\n",
    "                \n",
    "                logits = model(x)\n",
    "                loss = loss_fn(logits, y)\n",
    "                loss.backward()\n",
    "                \n",
    "                optimizer.step()\n",
    "                scheduler_decay.step()\n",
    "                scheduler_backbone.step()\n",
    "                \n",
    "                loss_tracker[\"train\"][name](step_train, n, loss.item(), accuracy(logits, y))\n",
    "                step_train += 1\n",
    "                \n",
    "            model.eval()\n",
    "            for i, batch in enumerate(validation):\n",
    "                x, y = batch[\"image\"], batch[\"label\"]\n",
    "                x = x.to(device)\n",
    "                y = y.to(device)\n",
    "                with torch.no_grad():\n",
    "                    logits = model(x)\n",
    "                    loss = loss_fn(logits, y)\n",
    "\n",
    "                loss_tracker[\"validation\"][name](step_validation, n, loss.item(), accuracy(logits, y))\n",
    "                step_validation += 1"
   ],
   "id": "3d2d179ce9fa07ec",
   "outputs": [
    {
     "name": "stdout",
     "output_type": "stream",
     "text": [
      "training resnet18_letter_recognition...\n"
     ]
    },
    {
     "name": "stderr",
     "output_type": "stream",
     "text": [
      "head: 100%|██████████| 14/14 [10:51<00:00, 46.56s/it]\n",
      "head + backbone: 100%|██████████| 2/2 [04:02<00:00, 121.18s/it]\n"
     ]
    }
   ],
   "execution_count": 76
  },
  {
   "metadata": {
    "ExecuteTime": {
     "end_time": "2024-12-03T19:38:31.292227Z",
     "start_time": "2024-12-03T19:38:31.135737Z"
    }
   },
   "cell_type": "code",
   "source": [
    "plt.figure()\n",
    "ax = plt.gca()\n",
    "loss_tracker[\"train\"][\"resnet18_letter_recognition\"].plot_loss(\n",
    "    ax, c=\"tab:blue\"\n",
    ")\n",
    "loss_tracker[\"validation\"][\"resnet18_letter_recognition\"].plot_loss(\n",
    "    ax, c=\"tab:orange\"\n",
    ")\n",
    "plt.title(\"loss\")"
   ],
   "id": "ec76996718a62bb4",
   "outputs": [
    {
     "data": {
      "text/plain": [
       "Text(0.5, 1.0, 'loss')"
      ]
     },
     "execution_count": 77,
     "metadata": {},
     "output_type": "execute_result"
    },
    {
     "data": {
      "text/plain": [
       "<Figure size 640x480 with 1 Axes>"
      ],
      "image/png": "[encoded data removed]"
     },
     "metadata": {},
     "output_type": "display_data"
    }
   ],
   "execution_count": 77
  },
  {
   "metadata": {
    "ExecuteTime": {
     "end_time": "2024-12-03T19:38:31.571709Z",
     "start_time": "2024-12-03T19:38:31.414101Z"
    }
   },
   "cell_type": "code",
   "source": [
    "plt.figure()\n",
    "ax = plt.gca()\n",
    "loss_tracker[\"train\"][\"resnet18_letter_recognition\"].plot_acc(\n",
    "    ax, c=\"tab:blue\"\n",
    ")\n",
    "loss_tracker[\"validation\"][\"resnet18_letter_recognition\"].plot_acc(\n",
    "    ax, c=\"tab:orange\"\n",
    ")\n",
    "plt.title(\"loss\")"
   ],
   "id": "25fba7934831bd7c",
   "outputs": [
    {
     "ename": "TypeError",
     "evalue": "can't convert cuda:0 device type tensor to numpy. Use Tensor.cpu() to copy the tensor to host memory first.",
     "output_type": "error",
     "traceback": [
      "\u001B[0;31m---------------------------------------------------------------------------\u001B[0m",
      "\u001B[0;31mTypeError\u001B[0m                                 Traceback (most recent call last)",
      "Cell \u001B[0;32mIn[78], line 3\u001B[0m\n\u001B[1;32m      1\u001B[0m plt\u001B[38;5;241m.\u001B[39mfigure()\n\u001B[1;32m      2\u001B[0m ax \u001B[38;5;241m=\u001B[39m plt\u001B[38;5;241m.\u001B[39mgca()\n\u001B[0;32m----> 3\u001B[0m \u001B[43mloss_tracker\u001B[49m\u001B[43m[\u001B[49m\u001B[38;5;124;43m\"\u001B[39;49m\u001B[38;5;124;43mtrain\u001B[39;49m\u001B[38;5;124;43m\"\u001B[39;49m\u001B[43m]\u001B[49m\u001B[43m[\u001B[49m\u001B[38;5;124;43m\"\u001B[39;49m\u001B[38;5;124;43mresnet18_letter_recognition\u001B[39;49m\u001B[38;5;124;43m\"\u001B[39;49m\u001B[43m]\u001B[49m\u001B[38;5;241;43m.\u001B[39;49m\u001B[43mplot_acc\u001B[49m\u001B[43m(\u001B[49m\n\u001B[1;32m      4\u001B[0m \u001B[43m    \u001B[49m\u001B[43max\u001B[49m\u001B[43m,\u001B[49m\u001B[43m \u001B[49m\u001B[43mc\u001B[49m\u001B[38;5;241;43m=\u001B[39;49m\u001B[38;5;124;43m\"\u001B[39;49m\u001B[38;5;124;43mtab:blue\u001B[39;49m\u001B[38;5;124;43m\"\u001B[39;49m\n\u001B[1;32m      5\u001B[0m \u001B[43m)\u001B[49m\n\u001B[1;32m      6\u001B[0m loss_tracker[\u001B[38;5;124m\"\u001B[39m\u001B[38;5;124mvalidation\u001B[39m\u001B[38;5;124m\"\u001B[39m][\u001B[38;5;124m\"\u001B[39m\u001B[38;5;124mresnet18_letter_recognition\u001B[39m\u001B[38;5;124m\"\u001B[39m]\u001B[38;5;241m.\u001B[39mplot_acc(\n\u001B[1;32m      7\u001B[0m     ax, c\u001B[38;5;241m=\u001B[39m\u001B[38;5;124m\"\u001B[39m\u001B[38;5;124mtab:orange\u001B[39m\u001B[38;5;124m\"\u001B[39m\n\u001B[1;32m      8\u001B[0m )\n\u001B[1;32m      9\u001B[0m plt\u001B[38;5;241m.\u001B[39mtitle(\u001B[38;5;124m\"\u001B[39m\u001B[38;5;124mloss\u001B[39m\u001B[38;5;124m\"\u001B[39m)\n",
      "Cell \u001B[0;32mIn[63], line 23\u001B[0m, in \u001B[0;36mTracker.plot_acc\u001B[0;34m(self, ax, *args, **kwargs)\u001B[0m\n\u001B[1;32m     22\u001B[0m \u001B[38;5;28;01mdef\u001B[39;00m \u001B[38;5;21mplot_acc\u001B[39m(\u001B[38;5;28mself\u001B[39m, ax, \u001B[38;5;241m*\u001B[39margs, \u001B[38;5;241m*\u001B[39m\u001B[38;5;241m*\u001B[39mkwargs):\n\u001B[0;32m---> 23\u001B[0m     \u001B[43max\u001B[49m\u001B[38;5;241;43m.\u001B[39;49m\u001B[43mplot\u001B[49m\u001B[43m(\u001B[49m\u001B[38;5;28;43mself\u001B[39;49m\u001B[38;5;241;43m.\u001B[39;49m\u001B[43mstep\u001B[49m\u001B[43m,\u001B[49m\u001B[43m \u001B[49m\u001B[38;5;28;43mself\u001B[39;49m\u001B[38;5;241;43m.\u001B[39;49m\u001B[43macc\u001B[49m\u001B[43m,\u001B[49m\u001B[43m \u001B[49m\u001B[43mlabel\u001B[49m\u001B[38;5;241;43m=\u001B[39;49m\u001B[38;5;124;43mf\u001B[39;49m\u001B[38;5;124;43m\"\u001B[39;49m\u001B[38;5;132;43;01m{\u001B[39;49;00m\u001B[38;5;28;43mself\u001B[39;49m\u001B[38;5;241;43m.\u001B[39;49m\u001B[43mbackbone\u001B[49m\u001B[38;5;132;43;01m}\u001B[39;49;00m\u001B[38;5;124;43m_\u001B[39;49m\u001B[38;5;132;43;01m{\u001B[39;49;00m\u001B[38;5;28;43mself\u001B[39;49m\u001B[38;5;241;43m.\u001B[39;49m\u001B[43mdataset\u001B[49m\u001B[38;5;132;43;01m}\u001B[39;49;00m\u001B[38;5;124;43m\"\u001B[39;49m\u001B[43m,\u001B[49m\u001B[43m \u001B[49m\u001B[38;5;241;43m*\u001B[39;49m\u001B[43margs\u001B[49m\u001B[43m,\u001B[49m\u001B[43m \u001B[49m\u001B[38;5;241;43m*\u001B[39;49m\u001B[38;5;241;43m*\u001B[39;49m\u001B[43mkwargs\u001B[49m\u001B[43m)\u001B[49m\n\u001B[1;32m     24\u001B[0m     ax\u001B[38;5;241m.\u001B[39mredraw_in_frame()\n",
      "File \u001B[0;32m~/Projects/heuristics-fsmp/.venv/lib/python3.12/site-packages/matplotlib/axes/_axes.py:1779\u001B[0m, in \u001B[0;36mAxes.plot\u001B[0;34m(self, scalex, scaley, data, *args, **kwargs)\u001B[0m\n\u001B[1;32m   1536\u001B[0m \u001B[38;5;250m\u001B[39m\u001B[38;5;124;03m\"\"\"\u001B[39;00m\n\u001B[1;32m   1537\u001B[0m \u001B[38;5;124;03mPlot y versus x as lines and/or markers.\u001B[39;00m\n\u001B[1;32m   1538\u001B[0m \n\u001B[0;32m   (...)\u001B[0m\n\u001B[1;32m   1776\u001B[0m \u001B[38;5;124;03m(``'green'``) or hex strings (``'#008000'``).\u001B[39;00m\n\u001B[1;32m   1777\u001B[0m \u001B[38;5;124;03m\"\"\"\u001B[39;00m\n\u001B[1;32m   1778\u001B[0m kwargs \u001B[38;5;241m=\u001B[39m cbook\u001B[38;5;241m.\u001B[39mnormalize_kwargs(kwargs, mlines\u001B[38;5;241m.\u001B[39mLine2D)\n\u001B[0;32m-> 1779\u001B[0m lines \u001B[38;5;241m=\u001B[39m [\u001B[38;5;241m*\u001B[39m\u001B[38;5;28mself\u001B[39m\u001B[38;5;241m.\u001B[39m_get_lines(\u001B[38;5;28mself\u001B[39m, \u001B[38;5;241m*\u001B[39margs, data\u001B[38;5;241m=\u001B[39mdata, \u001B[38;5;241m*\u001B[39m\u001B[38;5;241m*\u001B[39mkwargs)]\n\u001B[1;32m   1780\u001B[0m \u001B[38;5;28;01mfor\u001B[39;00m line \u001B[38;5;129;01min\u001B[39;00m lines:\n\u001B[1;32m   1781\u001B[0m     \u001B[38;5;28mself\u001B[39m\u001B[38;5;241m.\u001B[39madd_line(line)\n",
      "File \u001B[0;32m~/Projects/heuristics-fsmp/.venv/lib/python3.12/site-packages/matplotlib/axes/_base.py:296\u001B[0m, in \u001B[0;36m_process_plot_var_args.__call__\u001B[0;34m(self, axes, data, *args, **kwargs)\u001B[0m\n\u001B[1;32m    294\u001B[0m     this \u001B[38;5;241m+\u001B[39m\u001B[38;5;241m=\u001B[39m args[\u001B[38;5;241m0\u001B[39m],\n\u001B[1;32m    295\u001B[0m     args \u001B[38;5;241m=\u001B[39m args[\u001B[38;5;241m1\u001B[39m:]\n\u001B[0;32m--> 296\u001B[0m \u001B[38;5;28;01myield from\u001B[39;00m \u001B[38;5;28;43mself\u001B[39;49m\u001B[38;5;241;43m.\u001B[39;49m\u001B[43m_plot_args\u001B[49m\u001B[43m(\u001B[49m\n\u001B[1;32m    297\u001B[0m \u001B[43m    \u001B[49m\u001B[43maxes\u001B[49m\u001B[43m,\u001B[49m\u001B[43m \u001B[49m\u001B[43mthis\u001B[49m\u001B[43m,\u001B[49m\u001B[43m \u001B[49m\u001B[43mkwargs\u001B[49m\u001B[43m,\u001B[49m\u001B[43m \u001B[49m\u001B[43mambiguous_fmt_datakey\u001B[49m\u001B[38;5;241;43m=\u001B[39;49m\u001B[43mambiguous_fmt_datakey\u001B[49m\u001B[43m)\u001B[49m\n",
      "File \u001B[0;32m~/Projects/heuristics-fsmp/.venv/lib/python3.12/site-packages/matplotlib/axes/_base.py:476\u001B[0m, in \u001B[0;36m_process_plot_var_args._plot_args\u001B[0;34m(self, axes, tup, kwargs, return_kwargs, ambiguous_fmt_datakey)\u001B[0m\n\u001B[1;32m    474\u001B[0m \u001B[38;5;28;01mif\u001B[39;00m \u001B[38;5;28mlen\u001B[39m(xy) \u001B[38;5;241m==\u001B[39m \u001B[38;5;241m2\u001B[39m:\n\u001B[1;32m    475\u001B[0m     x \u001B[38;5;241m=\u001B[39m _check_1d(xy[\u001B[38;5;241m0\u001B[39m])\n\u001B[0;32m--> 476\u001B[0m     y \u001B[38;5;241m=\u001B[39m \u001B[43m_check_1d\u001B[49m\u001B[43m(\u001B[49m\u001B[43mxy\u001B[49m\u001B[43m[\u001B[49m\u001B[38;5;241;43m1\u001B[39;49m\u001B[43m]\u001B[49m\u001B[43m)\u001B[49m\n\u001B[1;32m    477\u001B[0m \u001B[38;5;28;01melse\u001B[39;00m:\n\u001B[1;32m    478\u001B[0m     x, y \u001B[38;5;241m=\u001B[39m index_of(xy[\u001B[38;5;241m-\u001B[39m\u001B[38;5;241m1\u001B[39m])\n",
      "File \u001B[0;32m~/Projects/heuristics-fsmp/.venv/lib/python3.12/site-packages/matplotlib/cbook.py:1411\u001B[0m, in \u001B[0;36m_check_1d\u001B[0;34m(x)\u001B[0m\n\u001B[1;32m   1405\u001B[0m \u001B[38;5;66;03m# plot requires `shape` and `ndim`.  If passed an\u001B[39;00m\n\u001B[1;32m   1406\u001B[0m \u001B[38;5;66;03m# object that doesn't provide them, then force to numpy array.\u001B[39;00m\n\u001B[1;32m   1407\u001B[0m \u001B[38;5;66;03m# Note this will strip unit information.\u001B[39;00m\n\u001B[1;32m   1408\u001B[0m \u001B[38;5;28;01mif\u001B[39;00m (\u001B[38;5;129;01mnot\u001B[39;00m \u001B[38;5;28mhasattr\u001B[39m(x, \u001B[38;5;124m'\u001B[39m\u001B[38;5;124mshape\u001B[39m\u001B[38;5;124m'\u001B[39m) \u001B[38;5;129;01mor\u001B[39;00m\n\u001B[1;32m   1409\u001B[0m         \u001B[38;5;129;01mnot\u001B[39;00m \u001B[38;5;28mhasattr\u001B[39m(x, \u001B[38;5;124m'\u001B[39m\u001B[38;5;124mndim\u001B[39m\u001B[38;5;124m'\u001B[39m) \u001B[38;5;129;01mor\u001B[39;00m\n\u001B[1;32m   1410\u001B[0m         \u001B[38;5;28mlen\u001B[39m(x\u001B[38;5;241m.\u001B[39mshape) \u001B[38;5;241m<\u001B[39m \u001B[38;5;241m1\u001B[39m):\n\u001B[0;32m-> 1411\u001B[0m     \u001B[38;5;28;01mreturn\u001B[39;00m \u001B[43mnp\u001B[49m\u001B[38;5;241;43m.\u001B[39;49m\u001B[43matleast_1d\u001B[49m\u001B[43m(\u001B[49m\u001B[43mx\u001B[49m\u001B[43m)\u001B[49m\n\u001B[1;32m   1412\u001B[0m \u001B[38;5;28;01melse\u001B[39;00m:\n\u001B[1;32m   1413\u001B[0m     \u001B[38;5;28;01mreturn\u001B[39;00m x\n",
      "File \u001B[0;32m~/Projects/heuristics-fsmp/.venv/lib/python3.12/site-packages/numpy/_core/shape_base.py:64\u001B[0m, in \u001B[0;36matleast_1d\u001B[0;34m(*arys)\u001B[0m\n\u001B[1;32m     24\u001B[0m \u001B[38;5;250m\u001B[39m\u001B[38;5;124;03m\"\"\"\u001B[39;00m\n\u001B[1;32m     25\u001B[0m \u001B[38;5;124;03mConvert inputs to arrays with at least one dimension.\u001B[39;00m\n\u001B[1;32m     26\u001B[0m \n\u001B[0;32m   (...)\u001B[0m\n\u001B[1;32m     61\u001B[0m \n\u001B[1;32m     62\u001B[0m \u001B[38;5;124;03m\"\"\"\u001B[39;00m\n\u001B[1;32m     63\u001B[0m \u001B[38;5;28;01mif\u001B[39;00m \u001B[38;5;28mlen\u001B[39m(arys) \u001B[38;5;241m==\u001B[39m \u001B[38;5;241m1\u001B[39m:\n\u001B[0;32m---> 64\u001B[0m     result \u001B[38;5;241m=\u001B[39m \u001B[43masanyarray\u001B[49m\u001B[43m(\u001B[49m\u001B[43marys\u001B[49m\u001B[43m[\u001B[49m\u001B[38;5;241;43m0\u001B[39;49m\u001B[43m]\u001B[49m\u001B[43m)\u001B[49m\n\u001B[1;32m     65\u001B[0m     \u001B[38;5;28;01mif\u001B[39;00m result\u001B[38;5;241m.\u001B[39mndim \u001B[38;5;241m==\u001B[39m \u001B[38;5;241m0\u001B[39m:\n\u001B[1;32m     66\u001B[0m         result \u001B[38;5;241m=\u001B[39m result\u001B[38;5;241m.\u001B[39mreshape(\u001B[38;5;241m1\u001B[39m)\n",
      "File \u001B[0;32m~/Projects/heuristics-fsmp/.venv/lib/python3.12/site-packages/torch/_tensor.py:1149\u001B[0m, in \u001B[0;36mTensor.__array__\u001B[0;34m(self, dtype)\u001B[0m\n\u001B[1;32m   1147\u001B[0m     \u001B[38;5;28;01mreturn\u001B[39;00m handle_torch_function(Tensor\u001B[38;5;241m.\u001B[39m__array__, (\u001B[38;5;28mself\u001B[39m,), \u001B[38;5;28mself\u001B[39m, dtype\u001B[38;5;241m=\u001B[39mdtype)\n\u001B[1;32m   1148\u001B[0m \u001B[38;5;28;01mif\u001B[39;00m dtype \u001B[38;5;129;01mis\u001B[39;00m \u001B[38;5;28;01mNone\u001B[39;00m:\n\u001B[0;32m-> 1149\u001B[0m     \u001B[38;5;28;01mreturn\u001B[39;00m \u001B[38;5;28;43mself\u001B[39;49m\u001B[38;5;241;43m.\u001B[39;49m\u001B[43mnumpy\u001B[49m\u001B[43m(\u001B[49m\u001B[43m)\u001B[49m\n\u001B[1;32m   1150\u001B[0m \u001B[38;5;28;01melse\u001B[39;00m:\n\u001B[1;32m   1151\u001B[0m     \u001B[38;5;28;01mreturn\u001B[39;00m \u001B[38;5;28mself\u001B[39m\u001B[38;5;241m.\u001B[39mnumpy()\u001B[38;5;241m.\u001B[39mastype(dtype, copy\u001B[38;5;241m=\u001B[39m\u001B[38;5;28;01mFalse\u001B[39;00m)\n",
      "\u001B[0;31mTypeError\u001B[0m: can't convert cuda:0 device type tensor to numpy. Use Tensor.cpu() to copy the tensor to host memory first."
     ]
    },
    {
     "data": {
      "text/plain": [
       "<Figure size 640x480 with 1 Axes>"
      ],
      "image/png": "[encoded data removed]"
     },
     "metadata": {},
     "output_type": "display_data"
    }
   ],
   "execution_count": 78
  },
  {
   "metadata": {},
   "cell_type": "code",
   "outputs": [],
   "execution_count": null,
   "source": "",
   "id": "58ad9978c51921d6"
  }
 ],
 "metadata": {
  "kernelspec": {
   "display_name": "Python 3",
   "language": "python",
   "name": "python3"
  },
  "language_info": {
   "codemirror_mode": {
    "name": "ipython",
    "version": 2
   },
   "file_extension": ".py",
   "mimetype": "text/x-python",
   "name": "python",
   "nbconvert_exporter": "python",
   "pygments_lexer": "ipython2",
   "version": "2.7.6"
  }
 },
 "nbformat": 4,
 "nbformat_minor": 5
}
