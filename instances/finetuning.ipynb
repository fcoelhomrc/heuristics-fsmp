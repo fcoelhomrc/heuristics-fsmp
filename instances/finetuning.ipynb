{
 "cells": [
  {
   "cell_type": "code",
   "id": "initial_id",
   "metadata": {
    "collapsed": true,
    "ExecuteTime": {
     "end_time": "2024-12-03T17:28:44.109800Z",
     "start_time": "2024-12-03T17:28:44.105229Z"
    }
   },
   "source": [
    "from symtable import Class\n",
    "\n",
    "import torch\n",
    "import torch.nn as nn\n",
    "\n",
    "import numpy as np\n",
    "import pandas as pd\n",
    "\n",
    "import matplotlib.pyplot as plt\n",
    "\n",
    "from tqdm import tqdm"
   ],
   "outputs": [],
   "execution_count": 6
  },
  {
   "metadata": {
    "ExecuteTime": {
     "end_time": "2024-12-03T17:11:18.544712Z",
     "start_time": "2024-12-03T17:11:17.131172Z"
    }
   },
   "cell_type": "code",
   "source": [
    "from instances.wrappers import get_dataset\n",
    "from instances.models import Classifier"
   ],
   "id": "997faa513e3f5caa",
   "outputs": [
    {
     "name": "stderr",
     "output_type": "stream",
     "text": [
      "/home/felipe/Projects/heuristics-fsmp/.venv/lib/python3.12/site-packages/tqdm/auto.py:21: TqdmWarning: IProgress not found. Please update jupyter and ipywidgets. See https://ipywidgets.readthedocs.io/en/stable/user_install.html\n",
      "  from .autonotebook import tqdm as notebook_tqdm\n"
     ]
    }
   ],
   "execution_count": 2
  },
  {
   "metadata": {
    "ExecuteTime": {
     "end_time": "2024-12-03T18:48:35.291493Z",
     "start_time": "2024-12-03T18:48:35.288113Z"
    }
   },
   "cell_type": "code",
   "source": [
    "datasets = [\n",
    "    \"letter_recognition\",\n",
    "    # \"beans\",\n",
    "    # \"brain_tumor\",\n",
    "    # \"cifar\",\n",
    "    # \"cats_and_dogs\",\n",
    "]\n",
    "\n",
    "backbones = [\n",
    "    \"resnet18\"\n",
    "]"
   ],
   "id": "ffdb0ca04b34e5",
   "outputs": [],
   "execution_count": 60
  },
  {
   "metadata": {
    "ExecuteTime": {
     "end_time": "2024-12-03T18:50:24.815778Z",
     "start_time": "2024-12-03T18:50:24.810804Z"
    }
   },
   "cell_type": "code",
   "source": [
    "class Tracker:\n",
    "    def __init__(self, backbone, dataset):\n",
    "        self.backbone = backbone\n",
    "        self.dataset = dataset\n",
    "        \n",
    "        self.step = []\n",
    "        self.epoch = []\n",
    "        self.loss = []\n",
    "        self.acc = []\n",
    "    \n",
    "    def __call__(self, step, epoch, loss, acc=None):\n",
    "        self.step.append(step)\n",
    "        self.epoch.append(epoch)\n",
    "        self.loss.append(loss)\n",
    "        if acc is not None:\n",
    "            self.acc.append(acc)\n",
    "        \n",
    "    def plot_loss(self, ax, *args, **kwargs):\n",
    "        ax.plot(self.step, self.loss, label=f\"{self.backbone}_{self.dataset}\", *args, **kwargs)\n",
    "        ax.redraw_in_frame()\n",
    "    \n",
    "    def plot_acc(self, ax, *args, **kwargs):\n",
    "        ax.plot(self.step, self.acc, label=f\"{self.backbone}_{self.dataset}\", *args, **kwargs)\n",
    "        ax.redraw_in_frame()\n",
    "        "
   ],
   "id": "7be2d1c8ce60c5bc",
   "outputs": [],
   "execution_count": 63
  },
  {
   "metadata": {
    "ExecuteTime": {
     "end_time": "2024-12-03T19:42:06.208667Z",
     "start_time": "2024-12-03T19:42:06.206283Z"
    }
   },
   "cell_type": "code",
   "source": [
    "def accuracy(logits, labels):\n",
    "    preds = torch.softmax(logits, dim=1).argmax(dim=1)\n",
    "    return (preds == labels).float().mean().cpu().numpy()"
   ],
   "id": "ad160ea797d8563c",
   "outputs": [],
   "execution_count": 87
  },
  {
   "metadata": {
    "ExecuteTime": {
     "end_time": "2024-12-03T19:42:06.366043Z",
     "start_time": "2024-12-03T19:42:06.363613Z"
    }
   },
   "cell_type": "code",
   "source": [
    "def count_parameters(model):\n",
    "    return sum(p.numel() for p in model.parameters() if p.requires_grad)"
   ],
   "id": "2b2f6f3c8a780949",
   "outputs": [],
   "execution_count": 88
  },
  {
   "metadata": {
    "ExecuteTime": {
     "end_time": "2024-12-03T19:57:11.403343Z",
     "start_time": "2024-12-03T19:42:06.493808Z"
    }
   },
   "cell_type": "code",
   "source": [
    "batch_size = 128\n",
    "n_epochs = 16\n",
    "epochs_before_unfreeze = int(n_epochs - 2)\n",
    "lr = 1e-3\n",
    "\n",
    "device = torch.device(\"cuda\" if torch.cuda.is_available() else \"cpu\")\n",
    "\n",
    "loss_fn = nn.functional.cross_entropy\n",
    "\n",
    "loss_tracker = {\n",
    "    \"train\": {f\"{backbone}_{dataset}\": Tracker(backbone, dataset) for backbone in backbones for dataset in datasets},\n",
    "    \"validation\": {f\"{backbone}_{dataset}\": Tracker(backbone, dataset) for backbone in backbones for dataset in datasets}\n",
    "}\n",
    "\n",
    "\n",
    "for dataset in datasets:\n",
    "    for backbone in backbones:\n",
    "        name = f\"{backbone}_{dataset}\" \n",
    "        print(f\"training {name}...\")\n",
    "        train, validation, test, n_classes= get_dataset(dataset, batch_size=batch_size)\n",
    "        model = Classifier(backbone, n_classes, n_hidden=128).to(device)\n",
    "        optimizer = torch.optim.Adam(model.parameters(), lr=lr)\n",
    "        # scheduler_decay = torch.optim.lr_scheduler.ExponentialLR(optimizer, gamma=0.9)\n",
    "        scheduler_backbone = torch.optim.lr_scheduler.MultiStepLR(optimizer, milestones=[epochs_before_unfreeze], gamma=0.1)\n",
    "        \n",
    "        step_train = 0\n",
    "        step_validation = 0\n",
    "        \n",
    "        # freeze backbone\n",
    "        for param in model.model[:2].parameters():\n",
    "            param.requires_grad = False\n",
    "\n",
    "        for n in tqdm(range(epochs_before_unfreeze), desc=\"head\"):\n",
    "            model.train()\n",
    "            for i, batch in enumerate(train):\n",
    "                x, y = batch[\"image\"], batch[\"label\"]\n",
    "                x = x.to(device)\n",
    "                y = y.to(device)\n",
    "                optimizer.zero_grad()\n",
    "                \n",
    "                logits = model(x)\n",
    "                loss = loss_fn(logits, y)\n",
    "                loss.backward()\n",
    "                \n",
    "                optimizer.step()\n",
    "                # scheduler_decay.step()\n",
    "                scheduler_backbone.step()\n",
    "                \n",
    "                loss_tracker[\"train\"][name](step_train, n, loss.item(), accuracy(logits, y))\n",
    "                step_train += 1\n",
    "                \n",
    "            model.eval()\n",
    "            for i, batch in enumerate(validation):\n",
    "                x, y = batch[\"image\"], batch[\"label\"]\n",
    "                x = x.to(device)\n",
    "                y = y.to(device)\n",
    "                with torch.no_grad():\n",
    "                    logits = model(x)\n",
    "                    loss = loss_fn(logits, y)\n",
    "                \n",
    "                loss_tracker[\"validation\"][name](step_validation, n, loss.item(), accuracy(logits, y))\n",
    "                step_validation += 1\n",
    "                \n",
    "                                   \n",
    "        # unfreeze backbone\n",
    "        for param in model.model[:2].parameters():\n",
    "            param.requires_grad = True\n",
    "                \n",
    "        for n in tqdm(range(int(n_epochs - epochs_before_unfreeze)), desc=\"head + backbone\"):\n",
    "            model.train()\n",
    "            for i, batch in enumerate(train):\n",
    "                x, y = batch[\"image\"], batch[\"label\"]\n",
    "                x = x.to(device)\n",
    "                y = y.to(device)\n",
    "                optimizer.zero_grad()\n",
    "                \n",
    "                logits = model(x)\n",
    "                loss = loss_fn(logits, y)\n",
    "                loss.backward()\n",
    "                \n",
    "                optimizer.step()\n",
    "                # scheduler_decay.step()\n",
    "                scheduler_backbone.step()\n",
    "                \n",
    "                loss_tracker[\"train\"][name](step_train, n, loss.item(), accuracy(logits, y))\n",
    "                step_train += 1\n",
    "                \n",
    "            model.eval()\n",
    "            for i, batch in enumerate(validation):\n",
    "                x, y = batch[\"image\"], batch[\"label\"]\n",
    "                x = x.to(device)\n",
    "                y = y.to(device)\n",
    "                with torch.no_grad():\n",
    "                    logits = model(x)\n",
    "                    loss = loss_fn(logits, y)\n",
    "\n",
    "                loss_tracker[\"validation\"][name](step_validation, n, loss.item(), accuracy(logits, y))\n",
    "                step_validation += 1\n",
    "                \n",
    "        # save fine-tuned model\n",
    "        torch.save(model, f\"{name}.pt\")"
   ],
   "id": "3d2d179ce9fa07ec",
   "outputs": [
    {
     "name": "stdout",
     "output_type": "stream",
     "text": [
      "training resnet18_letter_recognition...\n"
     ]
    },
    {
     "name": "stderr",
     "output_type": "stream",
     "text": [
      "head: 100%|██████████| 14/14 [10:57<00:00, 46.98s/it]\n",
      "head + backbone: 100%|██████████| 2/2 [04:04<00:00, 122.49s/it]\n"
     ]
    }
   ],
   "execution_count": 89
  },
  {
   "metadata": {
    "ExecuteTime": {
     "end_time": "2024-12-03T19:57:11.704493Z",
     "start_time": "2024-12-03T19:57:11.595180Z"
    }
   },
   "cell_type": "code",
   "source": [
    "plt.figure()\n",
    "ax = plt.gca()\n",
    "loss_tracker[\"train\"][\"resnet18_letter_recognition\"].plot_loss(\n",
    "    ax, c=\"tab:blue\"\n",
    ")\n",
    "loss_tracker[\"validation\"][\"resnet18_letter_recognition\"].plot_loss(\n",
    "    ax, c=\"tab:orange\"\n",
    ")\n",
    "plt.title(\"loss\")\n",
    "plt.yscale(\"log\")"
   ],
   "id": "ec76996718a62bb4",
   "outputs": [
    {
     "data": {
      "text/plain": [
       "Text(0.5, 1.0, 'loss')"
      ]
     },
     "execution_count": 91,
     "metadata": {},
     "output_type": "execute_result"
    },
    {
     "data": {
      "text/plain": [
       "<Figure size 640x480 with 1 Axes>"
      ],
      "image/png": "[encoded data removed]"
     },
     "metadata": {},
     "output_type": "display_data"
    }
   ],
   "execution_count": 91
  },
  {
   "metadata": {
    "ExecuteTime": {
     "end_time": "2024-12-03T19:57:41.677578Z",
     "start_time": "2024-12-03T19:57:41.585857Z"
    }
   },
   "cell_type": "code",
   "source": [
    "plt.figure()\n",
    "ax = plt.gca()\n",
    "loss_tracker[\"train\"][\"resnet18_letter_recognition\"].plot_acc(\n",
    "    ax, c=\"tab:blue\"\n",
    ")\n",
    "loss_tracker[\"validation\"][\"resnet18_letter_recognition\"].plot_acc(\n",
    "    ax, c=\"tab:orange\"\n",
    ")\n",
    "plt.title(\"loss\")"
   ],
   "id": "25fba7934831bd7c",
   "outputs": [
    {
     "data": {
      "text/plain": [
       "Text(0.5, 1.0, 'loss')"
      ]
     },
     "execution_count": 95,
     "metadata": {},
     "output_type": "execute_result"
    },
    {
     "data": {
      "text/plain": [
       "<Figure size 640x480 with 1 Axes>"
      ],
      "image/png": "[encoded data removed]"
     },
     "metadata": {},
     "output_type": "display_data"
    }
   ],
   "execution_count": 95
  },
  {
   "metadata": {},
   "cell_type": "code",
   "outputs": [],
   "execution_count": null,
   "source": "",
   "id": "2316028c7708fc"
  }
 ],
 "metadata": {
  "kernelspec": {
   "display_name": "Python 3",
   "language": "python",
   "name": "python3"
  },
  "language_info": {
   "codemirror_mode": {
    "name": "ipython",
    "version": 2
   },
   "file_extension": ".py",
   "mimetype": "text/x-python",
   "name": "python",
   "nbconvert_exporter": "python",
   "pygments_lexer": "ipython2",
   "version": "2.7.6"
  }
 },
 "nbformat": 4,
 "nbformat_minor": 5
}
